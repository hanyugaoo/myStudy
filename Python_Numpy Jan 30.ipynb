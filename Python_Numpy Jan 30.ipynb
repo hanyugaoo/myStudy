{
 "cells": [
  {
   "cell_type": "markdown",
   "metadata": {},
   "source": [
    "### NumPy 可以让Python计算更高效"
   ]
  },
  {
   "cell_type": "markdown",
   "metadata": {},
   "source": [
    "1. List元素是分散储存，NumPy数组存储在一个均匀连续的内存块中，节省了计算资源。\n",
    "2. 避免隐式拷贝： 让数值x是原来的2倍 x* = 2, no y = x*2"
   ]
  },
  {
   "cell_type": "markdown",
   "metadata": {},
   "source": [
    "## ndarray ( N-dimensional Array)"
   ]
  },
  {
   "cell_type": "code",
   "execution_count": 5,
   "metadata": {},
   "outputs": [
    {
     "name": "stdout",
     "output_type": "stream",
     "text": [
      "[1 2 3]\n",
      "[[ 1  2  3]\n",
      " [ 4 10  6]\n",
      " [ 7  8  9]]\n",
      "(3,)\n",
      "(3, 3)\n",
      "int64\n"
     ]
    }
   ],
   "source": [
    "import numpy as np\n",
    "a = np.array([1,2,3])\n",
    "b = np.array([[1,2,3], [4,5,6],[7,8,9]])\n",
    "b[1,1] = 10\n",
    "\n",
    "print(a)\n",
    "print(b)\n",
    "print(a.shape)\n",
    "print(b.shape)\n",
    "print(a.dtype)"
   ]
  },
  {
   "cell_type": "code",
   "execution_count": 16,
   "metadata": {},
   "outputs": [
    {
     "name": "stdout",
     "output_type": "stream",
     "text": [
      "[('ZhangFei', 32, 75, 100,  90. ) ('GuanYu', 24, 85,  96,  88.5)\n",
      " ('ZhaoYun', 28, 85,  92,  96.5) ('HuangZhong', 29, 65,  85, 100. )]\n",
      "28.25\n",
      "93.25\n"
     ]
    }
   ],
   "source": [
    "persontype = np.dtype({\n",
    "    'names':['name','age','Chinese','Math','English'],\n",
    "    'formats':['U32','i','i','i','f']\n",
    "})\n",
    "peoples = np.array([(\"ZhangFei\",32,75,100, 90),(\"GuanYu\",24,85,96,88.5),\n",
    "       (\"ZhaoYun\",28,85,92,96.5),(\"HuangZhong\",29,65,85,100)],\n",
    "    dtype=persontype)\n",
    "\n",
    "ages = peoples[:]['age']\n",
    "chineses = peoples[:]['Chinese']\n",
    "maths = peoples[:]['Math']\n",
    "englishs = peoples[:]['English']\n",
    "\n",
    "print(peoples)\n",
    "print(np.mean(ages))\n",
    "print(np.mean(maths))"
   ]
  },
  {
   "cell_type": "code",
   "execution_count": 11,
   "metadata": {},
   "outputs": [
    {
     "data": {
      "text/plain": [
       "array([('ZhangFei', 32, 75, 100,  90. ), ('GuanYu', 24, 85,  96,  88.5),\n",
       "       ('ZhaoYun', 28, 85,  92,  96.5),\n",
       "       ('HuangZhong', 29, 65,  85, 100. )],\n",
       "      dtype=[('name', '<U32'), ('age', '<i4'), ('Chinese', '<i4'), ('Math', '<i4'), ('English', '<f4')])"
      ]
     },
     "execution_count": 11,
     "metadata": {},
     "output_type": "execute_result"
    }
   ],
   "source": [
    "'''\n",
    "data type: (https://docs.scipy.org/doc/numpy/reference/arrays.dtypes.html)\n",
    "'?'\tboolean\n",
    "'b'\t(signed) byte\n",
    "'B'\tunsigned byte\n",
    "'i'\t(signed) integer\n",
    "'u'\tunsigned integer\n",
    "'f'\tfloating-point\n",
    "'c'\tcomplex-floating point\n",
    "'m'\ttimedelta\n",
    "'M'\tdatetime\n",
    "'O'\t(Python) objects\n",
    "\n",
    "'U'\tcharacter string\n",
    "'V'\traw data (void)\n",
    "\n",
    "'''"
   ]
  },
  {
   "cell_type": "markdown",
   "metadata": {},
   "source": [
    "## ufunc(universal function)"
   ]
  },
  {
   "cell_type": "code",
   "execution_count": 18,
   "metadata": {},
   "outputs": [
    {
     "name": "stdout",
     "output_type": "stream",
     "text": [
      "[1 3 5 7 9]\n",
      "[1. 3. 5. 7. 9.]\n"
     ]
    }
   ],
   "source": [
    "#连续数组\n",
    "\n",
    "x1 = np.arange(1,11,2)\n",
    "#类似range，初始值、终值、步长， 不包括end point\n",
    "\n",
    "x2 = np.linspace(1,9,5)\n",
    "#linear space,初始值、终值、元素个数, 包括终值\n",
    "\n",
    "print(x1)\n",
    "print(x2)"
   ]
  },
  {
   "cell_type": "markdown",
   "metadata": {},
   "source": [
    "运算"
   ]
  },
  {
   "cell_type": "code",
   "execution_count": 21,
   "metadata": {},
   "outputs": [
    {
     "name": "stdout",
     "output_type": "stream",
     "text": [
      "[ 2.  6. 10. 14. 18.]\n",
      "[0. 0. 0. 0. 0.]\n",
      "[ 1.  9. 25. 49. 81.]\n",
      "[1. 1. 1. 1. 1.]\n",
      "[1.00000000e+00 2.70000000e+01 3.12500000e+03 8.23543000e+05\n",
      " 3.87420489e+08]\n",
      "[0. 0. 0. 0. 0.]\n"
     ]
    }
   ],
   "source": [
    "print(np.add(x1, x2))\n",
    "print(np.subtract(x1, x2))\n",
    "print(np.multiply(x1, x2))\n",
    "print(np.divide(x1, x2))\n",
    "print(np.power(x1, x2))\n",
    "print(np.remainder(x1, x2))  #np.mod"
   ]
  },
  {
   "cell_type": "markdown",
   "metadata": {},
   "source": [
    "max min"
   ]
  },
  {
   "cell_type": "code",
   "execution_count": 27,
   "metadata": {},
   "outputs": [
    {
     "name": "stdout",
     "output_type": "stream",
     "text": [
      "1\n",
      "[1 2 3]\n",
      "[1 4 7]\n",
      "9\n",
      "[7 8 9]\n",
      "[3 6 9]\n"
     ]
    }
   ],
   "source": [
    "b = np.array([[1,2,3], [4,5,6], [7,8,9]])\n",
    "print(np.amin(b))  #1\n",
    "print(np.amin(b,0))#1,4,7\n",
    "print(np.amin(b,1))#1,2,3\n",
    "print(np.amax(b)) #9\n",
    "print(np.amax(b,0))#3,6,9\n",
    "print(np.amax(b,1))#7,8,9\n",
    "# !!!： 0 column, 1 row"
   ]
  },
  {
   "cell_type": "markdown",
   "metadata": {},
   "source": [
    "difference between max and min"
   ]
  },
  {
   "cell_type": "code",
   "execution_count": 28,
   "metadata": {},
   "outputs": [
    {
     "name": "stdout",
     "output_type": "stream",
     "text": [
      "8\n",
      "[6 6 6]\n",
      "[2 2 2]\n"
     ]
    }
   ],
   "source": [
    "a = np.array([[1,2,3], [4,5,6], [7,8,9]])\n",
    "print(np.ptp(a))  #8\n",
    "print(np.ptp(a,0))#6,6,6\n",
    "print(np.ptp(a,1))#2,2,2"
   ]
  },
  {
   "cell_type": "markdown",
   "metadata": {},
   "source": [
    "percentile"
   ]
  },
  {
   "cell_type": "code",
   "execution_count": 31,
   "metadata": {},
   "outputs": [
    {
     "name": "stdout",
     "output_type": "stream",
     "text": [
      "5.0\n",
      "[4. 5. 6.]\n",
      "[2. 5. 8.]\n"
     ]
    }
   ],
   "source": [
    "a = np.array([[1,2,3], [4,5,6], [7,8,9]])\n",
    "print(np.percentile(a, 50))       #5\n",
    "print(np.percentile(a, 50, axis=0)) #4,5,6\n",
    "print(np.percentile(a, 50, axis=1)) #2,5,8\n",
    "\n",
    "#!!!: p in [0,100]"
   ]
  },
  {
   "cell_type": "markdown",
   "metadata": {},
   "source": [
    "np.mean\n",
    "np.median\n",
    "np.average(array, weights = wts)\n",
    "np.std\n",
    "np.var"
   ]
  },
  {
   "cell_type": "markdown",
   "metadata": {},
   "source": [
    "排序"
   ]
  },
  {
   "cell_type": "code",
   "execution_count": 37,
   "metadata": {},
   "outputs": [
    {
     "name": "stdout",
     "output_type": "stream",
     "text": [
      "[[4 3 2]\n",
      " [2 4 1]]\n",
      "[[2 3 4]\n",
      " [1 2 4]]\n",
      "[1 2 2 3 4 4]\n",
      "[[2 3 1]\n",
      " [4 4 2]]\n",
      "[[2 3 4]\n",
      " [1 2 4]]\n"
     ]
    }
   ],
   "source": [
    "a = np.array([[4,3,2],[2,4,1]])\n",
    "print(a)\n",
    "print(np.sort(a))\n",
    "print(np.sort(a, axis = None))\n",
    "print(np.sort(a, axis = 0))\n",
    "print(np.sort(a, axis = 1))\n",
    "# sort(a, axis=-1, kind=‘quicksort’, order=None)\n",
    "# quicksort、mergesort、heapsort分别表示快速排序、合并排序、堆排序"
   ]
  },
  {
   "cell_type": "markdown",
   "metadata": {},
   "source": [
    "作业\n",
    "练习题：统计全班的成绩\n",
    "\n",
    "假设一个团队里有5名学员，成绩如下表所示。你可以用NumPy统计下这些人在语文、英语、数学中的平均成绩、最小成绩、最大成绩、方差、标准差。然后把这些人的总成绩排序，得出名次进行成绩输出。"
   ]
  },
  {
   "cell_type": "code",
   "execution_count": 48,
   "metadata": {},
   "outputs": [
    {
     "name": "stdout",
     "output_type": "stream",
     "text": [
      "Subject | min | max | mean | std | var\n",
      "Chinese | 66 | 95 | 84.8 | 10.721940122944169 | 114.96000000000001\n",
      "Math | 65 | 92 | 84.0 | 9.777525249264253 | 95.6\n",
      "English | 30 | 98 | 78.2 | 25.19047439013406 | 634.56\n"
     ]
    }
   ],
   "source": [
    "persontype = np.dtype({\n",
    "    'names':['name','Chinese','Math','English'],\n",
    "    'formats':['U32','i','i','i']\n",
    "})\n",
    "peoples = np.array([(\"ZhangFei\",66,65,30),(\"GuanYu\",95,85,98),\n",
    "       (\"ZhaoYun\",93,92,96),(\"HuangZhong\",90,88,77),('DianWei', 80,90,90) ],\n",
    "    dtype=persontype)\n",
    "\n",
    "chinese = peoples[:]['Chinese']\n",
    "math = peoples[:]['Math']\n",
    "english = peoples[:]['English']\n",
    "\n",
    "def info(sub,lst):\n",
    "    print(sub,'|',min(lst),'|',max(lst),'|',np.mean(lst),'|',np.std(lst),'|',np.var(lst))\n",
    "#     print('|')\n",
    "#     print(min(lst))\n",
    "#     print('|')\n",
    "#     print(max(lst))\n",
    "#     print('|')\n",
    "#     print(np.mean(lst))\n",
    "#     print('|')\n",
    "#     print(np.std(lst))\n",
    "#     print('|')\n",
    "#     print(np.var(lst))\n",
    "\n",
    "\n",
    "print('Subject | min | max | mean | std | var')\n",
    "info('Chinese', chinese)\n",
    "info('Math', math)\n",
    "info('English', english)\n",
    "\n"
   ]
  },
  {
   "cell_type": "code",
   "execution_count": null,
   "metadata": {},
   "outputs": [],
   "source": [
    "persontype = np.dtype({\n",
    "    'names':['name','Chinese','Math','English','Total'],\n",
    "    'formats':['U32','i','i','i','i']\n",
    "})\n",
    "peoples[:]['Total'] = peoples[:]['Chinese'] + peoples[:]['Math'] + peoples[:]['English'] \n",
    "peoples = np.array([(\"ZhangFei\",66,65,30),(\"GuanYu\",95,85,98),\n",
    "       (\"ZhaoYun\",93,92,96),(\"HuangZhong\",90,88,77),('DianWei', 80,90,90) ],\n",
    "    dtype=persontype)\n",
    "\n",
    "\n",
    "print(np.sort(peoples, order='Total'))"
   ]
  }
 ],
 "metadata": {
  "kernelspec": {
   "display_name": "Python 3",
   "language": "python",
   "name": "python3"
  },
  "language_info": {
   "codemirror_mode": {
    "name": "ipython",
    "version": 3
   },
   "file_extension": ".py",
   "mimetype": "text/x-python",
   "name": "python",
   "nbconvert_exporter": "python",
   "pygments_lexer": "ipython3",
   "version": "3.7.3"
  }
 },
 "nbformat": 4,
 "nbformat_minor": 2
}
